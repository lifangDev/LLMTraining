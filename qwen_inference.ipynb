{
 "cells": [
  {
   "cell_type": "code",
   "execution_count": 2,
   "metadata": {},
   "outputs": [],
   "source": [
    "from transformers import AutoModelForCausalLM, AutoTokenizer\n",
    "\n",
    "model_name = \"Qwen/Qwen2.5-0.5B-Instruct\"\n",
    "\n",
    "model = AutoModelForCausalLM.from_pretrained(\n",
    "    model_name,\n",
    "    torch_dtype=\"auto\",\n",
    "    device_map=\"auto\"\n",
    ")\n",
    "tokenizer = AutoTokenizer.from_pretrained(model_name)"
   ]
  },
  {
   "cell_type": "code",
   "execution_count": 8,
   "metadata": {},
   "outputs": [
    {
     "data": {
      "text/plain": [
       "'<|im_start|>system\\nYou are Qwen, created by Alibaba Cloud. You are a helpful assistant.<|im_end|>\\n<|im_start|>user\\nWrite me a short introduction about the most famous place in Washington state.<|im_end|>\\n<|im_start|>assistant\\n'"
      ]
     },
     "execution_count": 8,
     "metadata": {},
     "output_type": "execute_result"
    }
   ],
   "source": [
    "prompt = \"Write me a short introduction about the most famous place in Washington state.\"\n",
    "messages = [\n",
    "    {\"role\": \"system\", \"content\": \"You are Qwen, created by Alibaba Cloud. You are a helpful assistant.\"},\n",
    "    {\"role\": \"user\", \"content\": prompt}\n",
    "]\n",
    "text = tokenizer.apply_chat_template(\n",
    "    messages,\n",
    "    tokenize=False,\n",
    "    add_generation_prompt=True\n",
    ")\n",
    "text\n"
   ]
  },
  {
   "cell_type": "code",
   "execution_count": 9,
   "metadata": {},
   "outputs": [
    {
     "data": {
      "text/plain": [
       "tensor([[151644,   8948,    198,   2610,    525,   1207,  16948,     11,   3465,\n",
       "            553,  54364,  14817,     13,   1446,    525,    264,  10950,  17847,\n",
       "             13, 151645,    198, 151644,    872,    198,   7985,    752,    264,\n",
       "           2805,  16800,    911,    279,   1429,  11245,   1992,    304,   6515,\n",
       "           1584,     13, 151645,    198, 151644,  77091,    198]],\n",
       "       device='cuda:0')"
      ]
     },
     "execution_count": 9,
     "metadata": {},
     "output_type": "execute_result"
    }
   ],
   "source": [
    "model_inputs = tokenizer([text], return_tensors=\"pt\").to(model.device)\n",
    "model_inputs[\"input_ids\"]\n"
   ]
  },
  {
   "cell_type": "code",
   "execution_count": 11,
   "metadata": {},
   "outputs": [
    {
     "data": {
      "text/plain": [
       "[tensor([ 38131,   3234,    374,    264,   1584,   7407,    389,    279,  16462,\n",
       "          13648,    315,   4787,   5159,     13,   1084,    374,  76217,    553,\n",
       "          18784,    311,    279,  10200,    323,  39587,    311,    279,   9806,\n",
       "             13,    576,   1584,    594,   6722,    374,  95729,     11,   1393,\n",
       "            279,   7772,   3283,    374,  16355,    382,   3966,    315,    279,\n",
       "           1429,   5411,   7482,    304,   6515,   3234,    374,    279,  56770,\n",
       "           5055,  19988,     11,    892,  44295,    916,    220,     16,     21,\n",
       "             15,     11,     15,     15,     15,  26367,    323,  14521,    279,\n",
       "           4453,   1584,     13,   1096,  12767,  13638,    374,   2114,    311,\n",
       "            264,  16807,   2088,    315,  60851,     11,   2670,  35558,     11,\n",
       "          23501,     11,    323,  35517,     13,    576,  13638,    374,   1083,\n",
       "           2114,    311,   1657,   8848,    323,  51256,   9419,    315,  10779,\n",
       "            323,   9898,    382,    785,  56770,  40014,   5577,    525,   2441,\n",
       "           5089,  32364,    304,   6515,   3234,     13,   4220,  80289,  38935,\n",
       "          10000,   3403,    279,  14590,  18414,     11,  10004,  56092,   6194,\n",
       "            315,    279,  16462,  21575,    323,    279,  95006,   3452,     13,\n",
       "          68840,    646,  34231,    476,  12963,   1526,    279,  13638,    311,\n",
       "          13186,   1181,   5810,  13143,    323,   1896,    304,    279,  19850,\n",
       "          95141,    382,    641,   5256,    311,    279,  56770,   5055,  19988,\n",
       "            323,    279,  56770,  40014,     11,   6515,   3234,    702,   3807,\n",
       "           1008,  27190,   7482,    311,   3947,     11,   1741,    438,  10423,\n",
       "          21911,   1268,   5055,   5540,     11,  24900,   5055,   5540,     11,\n",
       "            323,    279,  24900,  49614,     13,   8886,    315,   1493,   5671,\n",
       "           6081,   4911,  11449,    323,  38491,    429,   1281,   6515,   3234,\n",
       "            264,   9428,  26291,   9106,    369,  15255,     13, 151645],\n",
       "        device='cuda:0')]"
      ]
     },
     "execution_count": 11,
     "metadata": {},
     "output_type": "execute_result"
    }
   ],
   "source": [
    "generated_ids = model.generate(\n",
    "    **model_inputs,\n",
    "    max_new_tokens=512\n",
    ")\n",
    "generated_ids = [\n",
    "    output_ids[len(input_ids):] for input_ids, output_ids in zip(model_inputs.input_ids, generated_ids)\n",
    "]\n",
    "generated_ids\n"
   ]
  },
  {
   "cell_type": "code",
   "execution_count": 12,
   "metadata": {},
   "outputs": [
    {
     "data": {
      "text/plain": [
       "\"Washington State is a state located on the Pacific coast of North America. It is bordered by Oregon to the north and Idaho to the south. The state's capital is Olympia, while the largest city is Seattle.\\n\\nOne of the most popular places in Washington State is the Cascade National Forest, which spans over 160,000 acres and covers the entire state. This vast forest is home to a diverse range of ecosystems, including forests, mountains, and rivers. The forest is also home to many rare and endangered species of plants and animals.\\n\\nThe Cascade Mountains themselves are another significant attraction in Washington State. These majestic peaks rise above the surrounding landscape, offering breathtaking views of the Pacific Ocean and the Cascades. Visitors can hike or bike through the forest to explore its natural beauty and take in the stunning vistas.\\n\\nIn addition to the Cascade National Forest and the Cascade Mountains, Washington State has several other notable places to visit, such as Mount Rainier National Park, Olympic National Park, and the Olympic Peninsula. Each of these areas offers unique experiences and attractions that make Washington State a truly fascinating destination for visitors.\""
      ]
     },
     "execution_count": 12,
     "metadata": {},
     "output_type": "execute_result"
    }
   ],
   "source": [
    "response = tokenizer.batch_decode(generated_ids, skip_special_tokens=True)[0]\n",
    "response"
   ]
  }
 ],
 "metadata": {
  "kernelspec": {
   "display_name": "Python 3",
   "language": "python",
   "name": "python3"
  },
  "language_info": {
   "codemirror_mode": {
    "name": "ipython",
    "version": 3
   },
   "file_extension": ".py",
   "mimetype": "text/x-python",
   "name": "python",
   "nbconvert_exporter": "python",
   "pygments_lexer": "ipython3",
   "version": "3.13.0"
  }
 },
 "nbformat": 4,
 "nbformat_minor": 2
}
